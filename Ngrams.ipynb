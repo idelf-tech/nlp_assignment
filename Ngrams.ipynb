{
 "cells": [
  {
   "cell_type": "code",
   "execution_count": 31,
   "id": "1e7acc75-e6e4-4a97-9395-c7ac9709d27f",
   "metadata": {},
   "outputs": [
    {
     "name": "stderr",
     "output_type": "stream",
     "text": [
      "[nltk_data] Downloading package brown to\n",
      "[nltk_data]     C:\\Users\\user\\AppData\\Roaming\\nltk_data...\n",
      "[nltk_data]   Package brown is already up-to-date!\n"
     ]
    }
   ],
   "source": [
    "import nltk\n",
    "from nltk.corpus import brown\n",
    "from nltk.util import ngrams\n",
    "from collections import Counter, defaultdict\n",
    "import pandas as pd\n",
    "import string\n",
    "\n",
    "# Download the corpus\n",
    "nltk.download('brown')\n",
    "\n",
    "# Load text, remove punctuation, lowercase, and exclude empty strings\n",
    "tokenized_text = [\n",
    "    word.lower() \n",
    "    for word in brown.words() \n",
    "    if word not in string.punctuation and word.strip()\n",
    "]\n"
   ]
  },
  {
   "cell_type": "code",
   "execution_count": 32,
   "id": "ba5386cf-93af-4732-a8a8-6d7c32540079",
   "metadata": {},
   "outputs": [],
   "source": [
    "def create_ngrams_df(text, n):\n",
    "    \n",
    "    # Generate n-grams\n",
    "    ngrams = list(nltk.ngrams(text, n))\n",
    "    \n",
    "    # Count occurrences of each n-gram\n",
    "    ngram_counts = Counter(ngrams)\n",
    "    \n",
    "    # Create a DataFrame\n",
    "    df = pd.DataFrame.from_dict(ngram_counts, orient='index').reset_index()\n",
    "    df = df.rename(columns={'index': 'ngram', 0: 'count'})\n",
    "    df = df.sort_values('count', ascending=False).reset_index(drop=True)\n",
    "    \n",
    "    return df"
   ]
  },
  {
   "cell_type": "code",
   "execution_count": 33,
   "id": "7e3dce36-3fc7-4851-a480-9bc7fbb3a933",
   "metadata": {},
   "outputs": [],
   "source": [
    "def predict_next_words(text, sequence, k=5, n=4):\n",
    "    # Convert string input to list\n",
    "    if isinstance(sequence, str):\n",
    "        sequence = [sequence.lower()]\n",
    "    \n",
    "    # Try from highest to lowest n-gram order (trigram -> bigram -> unigram)\n",
    "    for n in range(min(n, len(sequence) + 1), 1, -1):\n",
    "        context = sequence[-(n-1):]  # Get last (n-1) words for context\n",
    "        \n",
    "        # Generate n-grams and filter matches\n",
    "        ngrams_df = create_ngrams_df(text, n)\n",
    "        matches = ngrams_df[ngrams_df['ngram'].apply(lambda x: x[:-1] == tuple(context))].copy()\n",
    "        \n",
    "        if not matches.empty:\n",
    "            total = matches['count'].sum()\n",
    "            matches['probability'] = matches['count'] / total\n",
    "            top_k = matches.head(k)\n",
    "            return [(ngram[-1], count, prob) \n",
    "                    for ngram, count, prob in \n",
    "                    zip(top_k['ngram'], top_k['count'], top_k['probability'])]\n",
    "    \n",
    "    return []  # No matches found"
   ]
  },
  {
   "cell_type": "code",
   "execution_count": 34,
   "id": "cbef2dff-d64b-414b-8835-3924d8607927",
   "metadata": {},
   "outputs": [
    {
     "name": "stdout",
     "output_type": "stream",
     "text": [
      "DF CREATED HEAD: \n",
      "         ngram  count\n",
      "0   (of, the)   9721\n",
      "1   (in, the)   6041\n",
      "2   (to, the)   3492\n",
      "3   (on, the)   2477\n",
      "4  (and, the)   2247\n",
      "\n",
      "Top 3 predictions after 'the':\n",
      "first: 662 occurrences, probability=0.01\n",
      "same: 628 occurrences, probability=0.01\n",
      "most: 417 occurrences, probability=0.01\n",
      "other: 416 occurrences, probability=0.01\n",
      "``: 405 occurrences, probability=0.01\n",
      "\n",
      "Top 3 predictions after 'in the':\n",
      "first: 662 occurrences, probability=0.01\n",
      "same: 628 occurrences, probability=0.01\n",
      "most: 417 occurrences, probability=0.01\n",
      "other: 416 occurrences, probability=0.01\n",
      "``: 405 occurrences, probability=0.01\n"
     ]
    }
   ],
   "source": [
    "# Create a bigrams dataframe (n=2)\n",
    "bigrams_df = create_ngrams_df(tokenized_text, n=2)\n",
    "print(\"DF CREATED HEAD: \\n\", bigrams_df.head())\n",
    "\n",
    "# Predict next words after \"the\"\n",
    "predictions = predict_next_words(tokenized_text, \"the\", k=5, n=2)\n",
    "print(\"\\nTop 3 predictions after 'the':\")\n",
    "for word, count, prob in predictions:\n",
    "    print(f\"{word}: {count} occurrences, probability={prob:.2f}\")\n",
    "\n",
    "# Predict with trigrams (n=3) after a 2-word sequence\n",
    "predictions = predict_next_words(tokenized_text, [\"in\", \"the\"], k=5, n=2)\n",
    "print(\"\\nTop 3 predictions after 'in the':\")\n",
    "for word, count, prob in predictions:\n",
    "    print(f\"{word}: {count} occurrences, probability={prob:.2f}\")"
   ]
  }
 ],
 "metadata": {
  "kernelspec": {
   "display_name": "Python 3 (ipykernel)",
   "language": "python",
   "name": "python3"
  },
  "language_info": {
   "codemirror_mode": {
    "name": "ipython",
    "version": 3
   },
   "file_extension": ".py",
   "mimetype": "text/x-python",
   "name": "python",
   "nbconvert_exporter": "python",
   "pygments_lexer": "ipython3",
   "version": "3.10.3"
  }
 },
 "nbformat": 4,
 "nbformat_minor": 5
}
